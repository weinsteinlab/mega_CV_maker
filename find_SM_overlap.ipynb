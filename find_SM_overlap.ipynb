{
 "cells": [
  {
   "cell_type": "code",
   "execution_count": 1,
   "id": "0052e70e-26d6-435a-8718-c78f2eb4b1ee",
   "metadata": {},
   "outputs": [],
   "source": [
    "import numpy as np\n",
    "import pickle\n",
    "import matplotlib.pyplot as plt\n",
    "import glob"
   ]
  },
  {
   "cell_type": "code",
   "execution_count": 2,
   "id": "de7ed7fd-bb32-4e14-9a2b-a56ab302ac7b",
   "metadata": {},
   "outputs": [],
   "source": [
    "excluded = np.concatenate((np.arange(0,87), np.arange(272,312))).tolist()\n",
    "\n",
    "feature_temp = []\n",
    "for file in glob.glob(\"output/*.txt\"):\n",
    "    pickleFile = open(file, 'rb')\n",
    "    temp = pickle.load(pickleFile)\n",
    "    if temp:\n",
    "        feature_temp.extend([(x[3],x[4]) for x in temp if ((int(x[3][0]) not in excluded) and (int(x[3][2]) not in excluded))])\n"
   ]
  },
  {
   "cell_type": "code",
   "execution_count": 3,
   "id": "5079a488-d5a3-4849-aa2c-acabdfc6ef7e",
   "metadata": {},
   "outputs": [
    {
     "name": "stdout",
     "output_type": "stream",
     "text": [
      "number of LSD features: 29596\n",
      "number of DOI features: 36620\n",
      "number of DMT features: 2109\n",
      "number of MES features: 12334\n"
     ]
    }
   ],
   "source": [
    "lig=\"LSD\"\n",
    "index = [i for i,y in enumerate([x[0] for x in feature_temp[0][1]]) if y==lig][0]\n",
    "lsd_list = [x for x in feature_temp if x[1][index][1]==True]\n",
    "print(\"number of LSD features:\", len(lsd_list), flush=True)\n",
    "\n",
    "lig=\"DOI\"\n",
    "index = [i for i,y in enumerate([x[0] for x in feature_temp[0][1]]) if y==lig][0]\n",
    "doi_list = [x for x in feature_temp if x[1][index][1]==True]\n",
    "print(\"number of DOI features:\", len(doi_list), flush=True)\n",
    "\n",
    "lig=\"DMT\"\n",
    "index = [i for i,y in enumerate([x[0] for x in feature_temp[0][1]]) if y==lig][0]\n",
    "dmt_list = [x for x in feature_temp if x[1][index][1]==True]\n",
    "print(\"number of DMT features:\", len(dmt_list), flush=True)\n",
    "\n",
    "lig=\"MES\"\n",
    "index = [i for i,y in enumerate([x[0] for x in feature_temp[0][1]]) if y==lig][0]\n",
    "mes_list = [x for x in feature_temp if x[1][index][1]==True]\n",
    "print(\"number of MES features:\", len(mes_list), flush=True)"
   ]
  },
  {
   "cell_type": "code",
   "execution_count": 4,
   "id": "bed04aee-63d5-4e5e-8e9e-57a0f5aeaf78",
   "metadata": {},
   "outputs": [],
   "source": [
    "rez_map = []\n",
    "for i in np.arange(60,86):\n",
    "    rez_map.append((i, \"TM1_extra\"))\n",
    "    \n",
    "for i in np.arange(86,103):\n",
    "    rez_map.append((i, \"TM1_intra\"))\n",
    "    \n",
    "for i in np.arange(103,107):\n",
    "    rez_map.append((i, \"ICL1\"))\n",
    "    \n",
    "for i in np.arange(107,124):\n",
    "    rez_map.append((i, \"TM2_intra\"))\n",
    "    \n",
    "for i in np.arange(124,139):\n",
    "    rez_map.append((i, \"TM2_extra\"))\n",
    "    \n",
    "for i in np.arange(139,144):\n",
    "    rez_map.append((i, \"ECL1\"))\n",
    "    \n",
    "for i in np.arange(144,161):\n",
    "    rez_map.append((i, \"TM3_extra\"))\n",
    "    \n",
    "for i in np.arange(161,179):\n",
    "    rez_map.append((i, \"TM3_intra\"))\n",
    "\n",
    "for i in np.arange(179,188):\n",
    "    rez_map.append((i, \"ICL2\"))\n",
    "    \n",
    "for i in np.arange(188,205):\n",
    "    rez_map.append((i, \"TM4_intra\"))\n",
    "    \n",
    "for i in np.arange(205,218):\n",
    "    rez_map.append((i, \"TM4_extra\"))\n",
    "    \n",
    "for i in np.arange(218,231):\n",
    "    rez_map.append((i, \"ECL2\"))\n",
    "    \n",
    "for i in np.arange(231,249):\n",
    "    rez_map.append((i, \"TM5_extra\"))\n",
    "\n",
    "for i in np.arange(249,272):\n",
    "    rez_map.append((i, \"TM5_intra\"))\n",
    "    \n",
    "for i in np.arange(272,312):\n",
    "    rez_map.append((i, \"ICL3\"))\n",
    "    \n",
    "for i in np.arange(312,333):\n",
    "    rez_map.append((i, \"TM6_intra\"))\n",
    "    \n",
    "for i in np.arange(333,350):\n",
    "    rez_map.append((i, \"TM6_extra\"))\n",
    "    \n",
    "for i in np.arange(350,354):\n",
    "    rez_map.append((i, \"ECL3\"))\n",
    "    \n",
    "for i in np.arange(354,368):\n",
    "    rez_map.append((i, \"TM7_extra\"))\n",
    "    \n",
    "for i in np.arange(368,384):\n",
    "    rez_map.append((i, \"TM7_intra\"))\n",
    "    \n",
    "for i in np.arange(384,420):\n",
    "    rez_map.append((i, \"H8\"))"
   ]
  },
  {
   "cell_type": "code",
   "execution_count": 6,
   "id": "c336b2b6-00ff-4f10-8c73-a4708ca13330",
   "metadata": {},
   "outputs": [
    {
     "data": {
      "text/plain": [
       "(array(['87', 'N', '179', 'O'], dtype='<U21'),\n",
       " [('LSD', False, 0),\n",
       "  ('DOI', False, 0),\n",
       "  ('DMT', False, 0),\n",
       "  ('MES', True, 32.81373176574707)])"
      ]
     },
     "execution_count": 6,
     "metadata": {},
     "output_type": "execute_result"
    }
   ],
   "source": [
    "mes_list[0]"
   ]
  },
  {
   "cell_type": "code",
   "execution_count": null,
   "id": "37a96221-fa03-4495-b641-f90da89c61f8",
   "metadata": {},
   "outputs": [],
   "source": []
  },
  {
   "cell_type": "code",
   "execution_count": 8,
   "id": "b9476fe3-31a6-4805-9cc5-f9c671c66d95",
   "metadata": {},
   "outputs": [],
   "source": [
    "def struct_motifs(sys_list):\n",
    "    temp_list = []\n",
    "    for i in range(len(sys_list)):\n",
    "        temp_string1 = [x[1] for x in rez_map if x[0]==int(sys_list[i][0][0])][0]\n",
    "        temp_string2 = [x[1] for x in rez_map if x[0]==int(sys_list[i][0][2])][0]\n",
    "        if (temp_string1, temp_string2) not in temp_list:\n",
    "            temp_list.append((temp_string1, temp_string2))\n",
    "    return temp_list"
   ]
  },
  {
   "cell_type": "code",
   "execution_count": 10,
   "id": "de6ff3d8-9d9d-4792-bd39-cf5f03d7b8ca",
   "metadata": {},
   "outputs": [],
   "source": [
    "lsd_SMs = struct_motifs(lsd_list)\n",
    "doi_SMs = struct_motifs(doi_list)\n",
    "dmt_SMs = struct_motifs(dmt_list)\n",
    "mes_SMs = struct_motifs(mes_list)"
   ]
  },
  {
   "cell_type": "code",
   "execution_count": 20,
   "id": "662dfc97-5002-4480-aa94-311dee6f345b",
   "metadata": {},
   "outputs": [],
   "source": []
  },
  {
   "cell_type": "code",
   "execution_count": 38,
   "id": "a0f3d5fc-c016-4f05-84ca-57e70a44806d",
   "metadata": {},
   "outputs": [],
   "source": [
    "def list_overlap(lst1, lst2):\n",
    "    return [x for x in lst1 if ((x in lst2) or (x[::-1] in lst2))]"
   ]
  },
  {
   "cell_type": "code",
   "execution_count": 41,
   "id": "65b0da8a-d4ef-402d-bef5-b5faf9787eb6",
   "metadata": {},
   "outputs": [
    {
     "data": {
      "text/plain": [
       "[('ICL2', 'TM6_extra'), ('TM4_extra', 'TM6_extra'), ('ECL2', 'TM7_extra')]"
      ]
     },
     "execution_count": 41,
     "metadata": {},
     "output_type": "execute_result"
    }
   ],
   "source": [
    "temp_lst = list_overlap(lsd_SMs, doi_SMs)\n",
    "\n",
    "temp_lst2 = list_overlap(temp_lst, dmt_SMs)\n",
    "\n",
    "list_overlap(temp_lst2, mes_SMs)"
   ]
  }
 ],
 "metadata": {
  "kernelspec": {
   "display_name": "OLCF-base (ipykernel)",
   "language": "python",
   "name": "python3"
  },
  "language_info": {
   "codemirror_mode": {
    "name": "ipython",
    "version": 3
   },
   "file_extension": ".py",
   "mimetype": "text/x-python",
   "name": "python",
   "nbconvert_exporter": "python",
   "pygments_lexer": "ipython3",
   "version": "3.8.10"
  }
 },
 "nbformat": 4,
 "nbformat_minor": 5
}
